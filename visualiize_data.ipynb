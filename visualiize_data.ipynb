{
 "cells": [
  {
   "cell_type": "code",
   "execution_count": 29,
   "metadata": {},
   "outputs": [],
   "source": [
    "%matplotlib qt\n",
    "import pandas as pd\n",
    "from matplotlib import pyplot as plt\n",
    "import numpy as np\n",
    "import matplotlib.dates as mdates\n",
    "from datetime import datetime\n",
    "from datetime import timedelta"
   ]
  },
  {
   "cell_type": "markdown",
   "metadata": {},
   "source": [
    "Importa il CSV"
   ]
  },
  {
   "cell_type": "code",
   "execution_count": 30,
   "metadata": {},
   "outputs": [],
   "source": [
    "df = pd.read_csv('freewilly_data.csv',sep='\\t')\n",
    "df['dataora'] = pd.to_datetime(df['dataora'])\n",
    "\n",
    "cols = ['temperature','humidity']\n",
    "cols_lum = ['sunlightIR','sunlightVisible','sunlightUV']\n",
    "cols_ext = ['tankPCFull','soilMoisture']"
   ]
  },
  {
   "cell_type": "code",
   "execution_count": 31,
   "metadata": {},
   "outputs": [
    {
     "data": {
      "text/html": [
       "<div>\n",
       "<style scoped>\n",
       "    .dataframe tbody tr th:only-of-type {\n",
       "        vertical-align: middle;\n",
       "    }\n",
       "\n",
       "    .dataframe tbody tr th {\n",
       "        vertical-align: top;\n",
       "    }\n",
       "\n",
       "    .dataframe thead th {\n",
       "        text-align: right;\n",
       "    }\n",
       "</style>\n",
       "<table border=\"1\" class=\"dataframe\">\n",
       "  <thead>\n",
       "    <tr style=\"text-align: right;\">\n",
       "      <th></th>\n",
       "      <th>dataora</th>\n",
       "      <th>temperature</th>\n",
       "      <th>humidity</th>\n",
       "      <th>sunlightIR</th>\n",
       "      <th>sunlightVisible</th>\n",
       "      <th>sunlightUV</th>\n",
       "      <th>airQuality</th>\n",
       "      <th>soilMoisture</th>\n",
       "      <th>tankPCFull</th>\n",
       "    </tr>\n",
       "  </thead>\n",
       "  <tbody>\n",
       "    <tr>\n",
       "      <th>0</th>\n",
       "      <td>2019-12-21 17:45:41.372540</td>\n",
       "      <td>19.276733</td>\n",
       "      <td>46.734619</td>\n",
       "      <td>21398.0</td>\n",
       "      <td>6146.0</td>\n",
       "      <td>3155.0</td>\n",
       "      <td>1190.0</td>\n",
       "      <td>71.830986</td>\n",
       "      <td>28.553575</td>\n",
       "    </tr>\n",
       "    <tr>\n",
       "      <th>1</th>\n",
       "      <td>2019-12-21 17:45:51.370982</td>\n",
       "      <td>19.276733</td>\n",
       "      <td>46.734619</td>\n",
       "      <td>22718.0</td>\n",
       "      <td>6132.0</td>\n",
       "      <td>3148.0</td>\n",
       "      <td>1183.0</td>\n",
       "      <td>71.830986</td>\n",
       "      <td>27.684689</td>\n",
       "    </tr>\n",
       "    <tr>\n",
       "      <th>2</th>\n",
       "      <td>2019-12-21 17:47:23.984290</td>\n",
       "      <td>19.377441</td>\n",
       "      <td>46.838379</td>\n",
       "      <td>27701.0</td>\n",
       "      <td>5131.0</td>\n",
       "      <td>2611.0</td>\n",
       "      <td>1192.0</td>\n",
       "      <td>72.300469</td>\n",
       "      <td>27.633578</td>\n",
       "    </tr>\n",
       "    <tr>\n",
       "      <th>3</th>\n",
       "      <td>2019-12-21 17:47:33.986245</td>\n",
       "      <td>19.306946</td>\n",
       "      <td>46.838379</td>\n",
       "      <td>19887.0</td>\n",
       "      <td>6128.0</td>\n",
       "      <td>3146.0</td>\n",
       "      <td>1192.0</td>\n",
       "      <td>71.830986</td>\n",
       "      <td>28.093576</td>\n",
       "    </tr>\n",
       "    <tr>\n",
       "      <th>4</th>\n",
       "      <td>2019-12-21 17:47:43.984042</td>\n",
       "      <td>19.306946</td>\n",
       "      <td>46.838379</td>\n",
       "      <td>27685.0</td>\n",
       "      <td>6171.0</td>\n",
       "      <td>2802.0</td>\n",
       "      <td>1180.0</td>\n",
       "      <td>72.300469</td>\n",
       "      <td>28.502464</td>\n",
       "    </tr>\n",
       "    <tr>\n",
       "      <th>...</th>\n",
       "      <td>...</td>\n",
       "      <td>...</td>\n",
       "      <td>...</td>\n",
       "      <td>...</td>\n",
       "      <td>...</td>\n",
       "      <td>...</td>\n",
       "      <td>...</td>\n",
       "      <td>...</td>\n",
       "      <td>...</td>\n",
       "    </tr>\n",
       "    <tr>\n",
       "      <th>115110</th>\n",
       "      <td>2020-01-04 03:25:23.288432</td>\n",
       "      <td>18.531494</td>\n",
       "      <td>37.542725</td>\n",
       "      <td>255.0</td>\n",
       "      <td>264.0</td>\n",
       "      <td>0.0</td>\n",
       "      <td>1627.0</td>\n",
       "      <td>68.544601</td>\n",
       "      <td>12.249172</td>\n",
       "    </tr>\n",
       "    <tr>\n",
       "      <th>115111</th>\n",
       "      <td>2020-01-04 03:25:33.287515</td>\n",
       "      <td>18.501282</td>\n",
       "      <td>37.646484</td>\n",
       "      <td>254.0</td>\n",
       "      <td>257.0</td>\n",
       "      <td>0.0</td>\n",
       "      <td>1634.0</td>\n",
       "      <td>68.544601</td>\n",
       "      <td>12.249172</td>\n",
       "    </tr>\n",
       "    <tr>\n",
       "      <th>115112</th>\n",
       "      <td>2020-01-04 03:25:43.286590</td>\n",
       "      <td>18.491211</td>\n",
       "      <td>37.646484</td>\n",
       "      <td>259.0</td>\n",
       "      <td>258.0</td>\n",
       "      <td>1.0</td>\n",
       "      <td>1638.0</td>\n",
       "      <td>68.544601</td>\n",
       "      <td>12.453616</td>\n",
       "    </tr>\n",
       "    <tr>\n",
       "      <th>115113</th>\n",
       "      <td>2020-01-04 03:25:53.289263</td>\n",
       "      <td>18.471069</td>\n",
       "      <td>37.664795</td>\n",
       "      <td>258.0</td>\n",
       "      <td>263.0</td>\n",
       "      <td>0.0</td>\n",
       "      <td>1632.0</td>\n",
       "      <td>68.544601</td>\n",
       "      <td>11.993617</td>\n",
       "    </tr>\n",
       "    <tr>\n",
       "      <th>115114</th>\n",
       "      <td>2020-01-04 03:26:03.286425</td>\n",
       "      <td>18.531494</td>\n",
       "      <td>37.646484</td>\n",
       "      <td>256.0</td>\n",
       "      <td>259.0</td>\n",
       "      <td>1.0</td>\n",
       "      <td>1628.0</td>\n",
       "      <td>68.544601</td>\n",
       "      <td>12.913615</td>\n",
       "    </tr>\n",
       "  </tbody>\n",
       "</table>\n",
       "<p>115115 rows × 9 columns</p>\n",
       "</div>"
      ],
      "text/plain": [
       "                          dataora  temperature   humidity  sunlightIR  \\\n",
       "0      2019-12-21 17:45:41.372540    19.276733  46.734619     21398.0   \n",
       "1      2019-12-21 17:45:51.370982    19.276733  46.734619     22718.0   \n",
       "2      2019-12-21 17:47:23.984290    19.377441  46.838379     27701.0   \n",
       "3      2019-12-21 17:47:33.986245    19.306946  46.838379     19887.0   \n",
       "4      2019-12-21 17:47:43.984042    19.306946  46.838379     27685.0   \n",
       "...                           ...          ...        ...         ...   \n",
       "115110 2020-01-04 03:25:23.288432    18.531494  37.542725       255.0   \n",
       "115111 2020-01-04 03:25:33.287515    18.501282  37.646484       254.0   \n",
       "115112 2020-01-04 03:25:43.286590    18.491211  37.646484       259.0   \n",
       "115113 2020-01-04 03:25:53.289263    18.471069  37.664795       258.0   \n",
       "115114 2020-01-04 03:26:03.286425    18.531494  37.646484       256.0   \n",
       "\n",
       "        sunlightVisible  sunlightUV  airQuality  soilMoisture  tankPCFull  \n",
       "0                6146.0      3155.0      1190.0     71.830986   28.553575  \n",
       "1                6132.0      3148.0      1183.0     71.830986   27.684689  \n",
       "2                5131.0      2611.0      1192.0     72.300469   27.633578  \n",
       "3                6128.0      3146.0      1192.0     71.830986   28.093576  \n",
       "4                6171.0      2802.0      1180.0     72.300469   28.502464  \n",
       "...                 ...         ...         ...           ...         ...  \n",
       "115110            264.0         0.0      1627.0     68.544601   12.249172  \n",
       "115111            257.0         0.0      1634.0     68.544601   12.249172  \n",
       "115112            258.0         1.0      1638.0     68.544601   12.453616  \n",
       "115113            263.0         0.0      1632.0     68.544601   11.993617  \n",
       "115114            259.0         1.0      1628.0     68.544601   12.913615  \n",
       "\n",
       "[115115 rows x 9 columns]"
      ]
     },
     "execution_count": 31,
     "metadata": {},
     "output_type": "execute_result"
    }
   ],
   "source": [
    "df"
   ]
  },
  {
   "cell_type": "markdown",
   "metadata": {},
   "source": [
    "Visualizza: temperatura, umidità e umidità del suolo"
   ]
  },
  {
   "cell_type": "code",
   "execution_count": 32,
   "metadata": {},
   "outputs": [],
   "source": [
    "# prepare datetime visualizazion parameters\n",
    "days = mdates.DayLocator()   # every day\n",
    "hours = mdates.HourLocator()  # every hour\n",
    "daysFmt = mdates.DateFormatter('%d-%m')\n",
    "hoursFmt = mdates.DateFormatter('%H')\n",
    "fig, ax = plt.subplots(2,1)\n",
    "#ax[ [k for k in range(2) ]].xaxis.set_major_locator(days)\n",
    "#ax[ [k for k in range(2) ]].xaxis.set_major_formatter(daysFmt)\n",
    "#ax[ [k for k in range(2) ]].xaxis.set_minor_locator(hours)\n",
    "\n",
    "ax[0].xaxis.set_major_locator(days)\n",
    "ax[0].xaxis.set_major_formatter(daysFmt)\n",
    "ax[0].xaxis.set_minor_locator(hours)\n",
    "ax[0].xaxis.set_minor_formatter(hoursFmt)\n",
    "\n",
    "ax[1].xaxis.set_major_locator(days)\n",
    "ax[1].xaxis.set_major_formatter(daysFmt)\n",
    "ax[1].xaxis.set_minor_locator(hours)\n",
    "ax[1].xaxis.set_minor_formatter(hoursFmt)\n",
    "\n",
    "# Plot data\n",
    "df.plot(x='dataora',y=cols    ,ax=ax[0])\n",
    "df.plot(x='dataora',y=cols_lum,ax=ax[1])\n",
    "plt.show()"
   ]
  },
  {
   "cell_type": "markdown",
   "metadata": {},
   "source": [
    "## Visualizza Miracolo della Natività"
   ]
  },
  {
   "cell_type": "markdown",
   "metadata": {},
   "source": [
    "### visualizza temperatura, umidità e umidità del suolo"
   ]
  },
  {
   "cell_type": "code",
   "execution_count": 33,
   "metadata": {},
   "outputs": [],
   "source": [
    "# set starting datetime\n",
    "start_datetime = datetime(year=2019,month=12,day=24,hour=15)\n",
    "end_datetime = datetime(2019,12,25,12)\n",
    "\n",
    "fig2, ax2 = plt.subplots(2,1)\n",
    "#ax[ [k for k in range(2) ]].xaxis.set_major_locator(days)\n",
    "#ax[ [k for k in range(2) ]].xaxis.set_major_formatter(daysFmt)\n",
    "#ax[ [k for k in range(2) ]].xaxis.set_minor_locator(hours)\n",
    "\n",
    "ax2[0].xaxis.set_major_locator(days)\n",
    "ax2[0].xaxis.set_major_formatter(daysFmt)\n",
    "ax2[0].xaxis.set_minor_locator(hours)\n",
    "ax2[0].xaxis.set_minor_formatter(hoursFmt)\n",
    "\n",
    "ax2[1].xaxis.set_major_locator(days)\n",
    "ax2[1].xaxis.set_major_formatter(daysFmt)\n",
    "ax2[1].xaxis.set_minor_locator(hours)\n",
    "ax2[1].xaxis.set_minor_formatter(hoursFmt)\n",
    "\n",
    "\n",
    "df2 = df[(df['dataora'] >= start_datetime) & (df['dataora'] <= end_datetime)]\n",
    "df2.plot(x='dataora',y=cols    ,ax=ax2[0])\n",
    "df2.plot(x='dataora',y=cols_lum,ax=ax2[1])\n",
    "plt.show()"
   ]
  },
  {
   "cell_type": "markdown",
   "metadata": {},
   "source": [
    "# Visualizza ultime 48 ore"
   ]
  },
  {
   "cell_type": "code",
   "execution_count": 34,
   "metadata": {},
   "outputs": [
    {
     "name": "stdout",
     "output_type": "stream",
     "text": [
      "data from 2020-01-02 03:28:14.945978\n"
     ]
    }
   ],
   "source": [
    "ierilaltro = datetime.now() + timedelta(days=-2)\n",
    "print('data from {}'.format(ierilaltro))\n",
    "fig3, ax3 = plt.subplots(2,1)\n",
    "#ax[ [k for k in range(2) ]].xaxis.set_major_locator(days)\n",
    "#ax[ [k for k in range(2) ]].xaxis.set_major_formatter(daysFmt)\n",
    "#ax[ [k for k in range(2) ]].xaxis.set_minor_locator(hours)\n",
    "\n",
    "ax3[0].xaxis.set_major_locator(days)\n",
    "ax3[0].xaxis.set_major_formatter(daysFmt)\n",
    "ax3[0].xaxis.set_minor_locator(hours)\n",
    "ax3[0].xaxis.set_minor_formatter(hoursFmt)\n",
    "\n",
    "ax3[1].xaxis.set_major_locator(days)\n",
    "ax3[1].xaxis.set_major_formatter(daysFmt)\n",
    "ax3[1].xaxis.set_minor_locator(hours)\n",
    "ax3[1].xaxis.set_minor_formatter(hoursFmt)\n",
    "\n",
    "#ax3[2].xaxis.set_major_locator(days)\n",
    "#ax3[2].xaxis.set_major_formatter(daysFmt)\n",
    "#ax3[2].xaxis.set_minor_locator(hours)\n",
    "#ax3[2].xaxis.set_minor_formatter(hoursFmt)\n",
    "\n",
    "\n",
    "df3 = df[df['dataora'] >= ierilaltro]\n",
    "df3.plot(x='dataora',y=cols     ,ax=ax3[0])\n",
    "df3.plot(x='dataora',y=cols_lum,ax=ax3[1])\n",
    "#df3.plot(x='dataora',y=cols_ext,ax=ax3[2])\n",
    "plt.show()\n",
    "\n"
   ]
  },
  {
   "cell_type": "code",
   "execution_count": 35,
   "metadata": {},
   "outputs": [
    {
     "data": {
      "text/plain": [
       "<matplotlib.axes._subplots.AxesSubplot at 0x22bfd411b48>"
      ]
     },
     "execution_count": 35,
     "metadata": {},
     "output_type": "execute_result"
    }
   ],
   "source": [
    "start_date = datetime.now() + timedelta(days=0,hours=-10)\n",
    "fig4, ax4 = plt.subplots(2,1)\n",
    "#ax[ [k for k in range(2) ]].xaxis.set_major_locator(days)\n",
    "#ax[ [k for k in range(2) ]].xaxis.set_major_formatter(daysFmt)\n",
    "#ax[ [k for k in range(2) ]].xaxis.set_minor_locator(hours)\n",
    "\n",
    "ax4[0].xaxis.set_major_locator(days)\n",
    "ax4[0].xaxis.set_major_formatter(daysFmt)\n",
    "ax4[0].xaxis.set_minor_locator(hours)\n",
    "ax4[0].xaxis.set_minor_formatter(hoursFmt)\n",
    "\n",
    "ax4[1].xaxis.set_major_locator(days)\n",
    "ax4[1].xaxis.set_major_formatter(daysFmt)\n",
    "ax4[1].xaxis.set_minor_locator(hours)\n",
    "ax4[1].xaxis.set_minor_formatter(hoursFmt)\n",
    "\n",
    "df4 = df[df['dataora'] >= start_date]\n",
    "df4.plot(x='dataora',y=cols     ,ax=ax4[0])\n",
    "df4.plot(x='dataora',y=['soilMoisture','tankPCFull'],ax=ax4[1])"
   ]
  },
  {
   "cell_type": "code",
   "execution_count": 36,
   "metadata": {},
   "outputs": [],
   "source": [
    "#cols_tot = ['temperature','humidity','soilMoisture','tankPCFull','sunlightIR','sunlightVisible','sunlightUV']\n",
    "#df4.plot(x='dataora',y=cols_tot)"
   ]
  },
  {
   "cell_type": "code",
   "execution_count": 37,
   "metadata": {},
   "outputs": [
    {
     "data": {
      "text/plain": [
       "<matplotlib.axes._subplots.AxesSubplot at 0x22bfd94d108>"
      ]
     },
     "execution_count": 37,
     "metadata": {},
     "output_type": "execute_result"
    }
   ],
   "source": [
    "df4.plot(x='dataora',y=['tankPCFull','soilMoisture'])"
   ]
  },
  {
   "cell_type": "code",
   "execution_count": null,
   "metadata": {},
   "outputs": [],
   "source": []
  }
 ],
 "metadata": {
  "kernelspec": {
   "display_name": "Python 3",
   "language": "python",
   "name": "python3"
  },
  "language_info": {
   "codemirror_mode": {
    "name": "ipython",
    "version": 3
   },
   "file_extension": ".py",
   "mimetype": "text/x-python",
   "name": "python",
   "nbconvert_exporter": "python",
   "pygments_lexer": "ipython3",
   "version": "3.7.5"
  }
 },
 "nbformat": 4,
 "nbformat_minor": 4
}
